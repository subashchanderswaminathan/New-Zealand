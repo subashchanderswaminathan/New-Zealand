{
 "cells": [
  {
   "cell_type": "markdown",
   "metadata": {},
   "source": [
    "# DATA WRANGLING PROJECT \n",
    "\n",
    "## Crime Stats\n",
    "This notebook consists of the wrangling involved in `Crime Stats`\n",
    "\n",
    "## Section 1: `Wrangling the Crime Data`\n",
    "\n",
    "The steps are as follows:\n",
    " 1. Loading and renaming the dataset\n",
    " 2. Aggregating the columns\n",
    " 3. Reshaping the dataframe into common structure\n",
    " 4. Export into csv"
   ]
  },
  {
   "cell_type": "code",
   "execution_count": 1,
   "metadata": {},
   "outputs": [
    {
     "name": "stderr",
     "output_type": "stream",
     "text": [
      "-- \u001b[1mAttaching packages\u001b[22m --------------------------------------- tidyverse 1.2.1 --\n",
      "\n",
      "\u001b[32mv\u001b[39m \u001b[34mggplot2\u001b[39m 3.2.1     \u001b[32mv\u001b[39m \u001b[34mpurrr  \u001b[39m 0.3.2\n",
      "\u001b[32mv\u001b[39m \u001b[34mtibble \u001b[39m 2.1.3     \u001b[32mv\u001b[39m \u001b[34mdplyr  \u001b[39m 0.8.3\n",
      "\u001b[32mv\u001b[39m \u001b[34mtidyr  \u001b[39m 0.8.3     \u001b[32mv\u001b[39m \u001b[34mstringr\u001b[39m 1.4.0\n",
      "\u001b[32mv\u001b[39m \u001b[34mreadr  \u001b[39m 1.3.1     \u001b[32mv\u001b[39m \u001b[34mforcats\u001b[39m 0.4.0\n",
      "\n",
      "-- \u001b[1mConflicts\u001b[22m ------------------------------------------ tidyverse_conflicts() --\n",
      "\u001b[31mx\u001b[39m \u001b[34mdplyr\u001b[39m::\u001b[32mfilter()\u001b[39m masks \u001b[34mstats\u001b[39m::filter()\n",
      "\u001b[31mx\u001b[39m \u001b[34mdplyr\u001b[39m::\u001b[32mlag()\u001b[39m    masks \u001b[34mstats\u001b[39m::lag()\n",
      "\n",
      "\n",
      "Attaching package: 'lubridate'\n",
      "\n",
      "\n",
      "The following object is masked from 'package:base':\n",
      "\n",
      "    date\n",
      "\n",
      "\n",
      "\n",
      "Attaching package: 'zoo'\n",
      "\n",
      "\n",
      "The following objects are masked from 'package:base':\n",
      "\n",
      "    as.Date, as.Date.numeric\n",
      "\n",
      "\n"
     ]
    }
   ],
   "source": [
    "#Loading the required libraries:\n",
    "library (tidyverse)\n",
    "library(lubridate)\n",
    "library(zoo)\n",
    "library(ggplot2)"
   ]
  },
  {
   "cell_type": "markdown",
   "metadata": {},
   "source": [
    "### Loading and Renaming the dataset"
   ]
  },
  {
   "cell_type": "code",
   "execution_count": 2,
   "metadata": {},
   "outputs": [
    {
     "name": "stderr",
     "output_type": "stream",
     "text": [
      "Parsed with column specification:\n",
      "cols(\n",
      "  .default = col_character(),\n",
      "  `Weapons filter` = \u001b[33mcol_logical()\u001b[39m,\n",
      "  `Number of Records` = \u001b[32mcol_double()\u001b[39m,\n",
      "  Victimisations = \u001b[32mcol_double()\u001b[39m\n",
      ")\n",
      "\n",
      "See spec(...) for full column specifications.\n",
      "\n"
     ]
    },
    {
     "name": "stdout",
     "output_type": "stream",
     "text": [
      "Observations: 613,549\n",
      "Variables: 3\n",
      "$ Date          \u001b[3m\u001b[90m<chr>\u001b[39m\u001b[23m \"7/1/2014\", \"7/1/2014\", \"7/1/2014\", \"7/1/2014\", \"7/1/...\n",
      "$ PoliceStation \u001b[3m\u001b[90m<chr>\u001b[39m\u001b[23m \"Kamo CPC\", \"Dunedin South\", \"Invercargill Central\", ...\n",
      "$ CrimeType     \u001b[3m\u001b[90m<chr>\u001b[39m\u001b[23m \"Assault\", \"Assault\", \"Assault\", \"Assault\", \"Assault\"...\n"
     ]
    }
   ],
   "source": [
    "#Loading the file and selecting the columns\n",
    "\n",
    "base_csv <- read_csv( \"ARG_data.csv\")\n",
    "\n",
    "unclean_df <- base_csv %>% select(c(24,15,4))\n",
    "\n",
    "unclean_df <- rename(unclean_df, Date = \"Year Month\", CrimeType = \"Anzsoc Subdivision\", \n",
    "                     PoliceStation = \"Police Station\",\n",
    "                    )\n",
    "unclean_df %>% glimpse()"
   ]
  },
  {
   "cell_type": "markdown",
   "metadata": {},
   "source": [
    "### Aggregating the columns"
   ]
  },
  {
   "cell_type": "code",
   "execution_count": 3,
   "metadata": {},
   "outputs": [],
   "source": [
    "#creating a function to add Year, Month, Quarter and aggregate the columns\n",
    "\n",
    "add_ymq <- function(df){\n",
    "            df %>%\n",
    "                mutate(Year = year(df$Date), \n",
    "                       Month = month(df$Date),\n",
    "                       Quarter = as.yearqtr(df$Date, format = \"%Y-%m-%d\")) %>%\n",
    "                select(-c(\"Date\")) %>%  #removing the \"Date\" column\n",
    "                select(c(3,4,5,1,2))  #swlwcting the column in the required order\n",
    "    }\n",
    "\n",
    "wrangle_crime <- function(df) {\n",
    "df %>% \n",
    "    mutate(Date = as.Date(Date,\"%m/%d/%Y\")) %>% \n",
    "    add_ymq() %>% \n",
    "    group_by(Year,Month,Quarter,PoliceStation) %>%\n",
    "    summarise(CrimeCount = n())   #Counting the number of crimes\n",
    "    }"
   ]
  },
  {
   "cell_type": "markdown",
   "metadata": {},
   "source": [
    "### Reshaping the dataframe into common structure\n",
    "so that it can be used in the data model with the rest of the enities."
   ]
  },
  {
   "cell_type": "code",
   "execution_count": 4,
   "metadata": {},
   "outputs": [
    {
     "data": {
      "text/html": [
       "<table>\n",
       "<caption>A grouped_df: 6 × 5</caption>\n",
       "<thead>\n",
       "\t<tr><th scope=col>Year</th><th scope=col>Month</th><th scope=col>Quarter</th><th scope=col>PoliceStation</th><th scope=col>CrimeCount</th></tr>\n",
       "\t<tr><th scope=col>&lt;dbl&gt;</th><th scope=col>&lt;dbl&gt;</th><th scope=col>&lt;yearqtr&gt;</th><th scope=col>&lt;chr&gt;</th><th scope=col>&lt;int&gt;</th></tr>\n",
       "</thead>\n",
       "<tbody>\n",
       "\t<tr><td>2014</td><td>7</td><td>2014 Q3</td><td>Akaroa          </td><td> 6</td></tr>\n",
       "\t<tr><td>2014</td><td>7</td><td>2014 Q3</td><td>Alexandra       </td><td> 7</td></tr>\n",
       "\t<tr><td>2014</td><td>7</td><td>2014 Q3</td><td>Amberley        </td><td> 7</td></tr>\n",
       "\t<tr><td>2014</td><td>7</td><td>2014 Q3</td><td>Arthurs Pass    </td><td> 1</td></tr>\n",
       "\t<tr><td>2014</td><td>7</td><td>2014 Q3</td><td>Ashburton       </td><td>45</td></tr>\n",
       "\t<tr><td>2014</td><td>7</td><td>2014 Q3</td><td>Auckland Airport</td><td>17</td></tr>\n",
       "</tbody>\n",
       "</table>\n"
      ],
      "text/latex": [
       "A grouped_df: 6 × 5\n",
       "\\begin{tabular}{r|lllll}\n",
       " Year & Month & Quarter & PoliceStation & CrimeCount\\\\\n",
       " <dbl> & <dbl> & <yearqtr> & <chr> & <int>\\\\\n",
       "\\hline\n",
       "\t 2014 & 7 & 2014 Q3 & Akaroa           &  6\\\\\n",
       "\t 2014 & 7 & 2014 Q3 & Alexandra        &  7\\\\\n",
       "\t 2014 & 7 & 2014 Q3 & Amberley         &  7\\\\\n",
       "\t 2014 & 7 & 2014 Q3 & Arthurs Pass     &  1\\\\\n",
       "\t 2014 & 7 & 2014 Q3 & Ashburton        & 45\\\\\n",
       "\t 2014 & 7 & 2014 Q3 & Auckland Airport & 17\\\\\n",
       "\\end{tabular}\n"
      ],
      "text/markdown": [
       "\n",
       "A grouped_df: 6 × 5\n",
       "\n",
       "| Year &lt;dbl&gt; | Month &lt;dbl&gt; | Quarter &lt;yearqtr&gt; | PoliceStation &lt;chr&gt; | CrimeCount &lt;int&gt; |\n",
       "|---|---|---|---|---|\n",
       "| 2014 | 7 | 2014 Q3 | Akaroa           |  6 |\n",
       "| 2014 | 7 | 2014 Q3 | Alexandra        |  7 |\n",
       "| 2014 | 7 | 2014 Q3 | Amberley         |  7 |\n",
       "| 2014 | 7 | 2014 Q3 | Arthurs Pass     |  1 |\n",
       "| 2014 | 7 | 2014 Q3 | Ashburton        | 45 |\n",
       "| 2014 | 7 | 2014 Q3 | Auckland Airport | 17 |\n",
       "\n"
      ],
      "text/plain": [
       "  Year Month Quarter PoliceStation    CrimeCount\n",
       "1 2014 7     2014 Q3 Akaroa            6        \n",
       "2 2014 7     2014 Q3 Alexandra         7        \n",
       "3 2014 7     2014 Q3 Amberley          7        \n",
       "4 2014 7     2014 Q3 Arthurs Pass      1        \n",
       "5 2014 7     2014 Q3 Ashburton        45        \n",
       "6 2014 7     2014 Q3 Auckland Airport 17        "
      ]
     },
     "metadata": {},
     "output_type": "display_data"
    }
   ],
   "source": [
    "final <- unclean_df %>% wrangle_crime() #using the created function to wrangle the data\n",
    "\n",
    "final %>% head()"
   ]
  },
  {
   "cell_type": "markdown",
   "metadata": {},
   "source": [
    "The below code can be executed if you want to see the output of the data after cleaning."
   ]
  },
  {
   "cell_type": "code",
   "execution_count": 5,
   "metadata": {},
   "outputs": [],
   "source": [
    "#Export the dataframe to a csv format\n",
    "\n",
    "#write_csv(final,\"Crime_cleaned.csv\")"
   ]
  },
  {
   "cell_type": "markdown",
   "metadata": {},
   "source": [
    "## Section 2: Web Scraping in Julia\n",
    "\n",
    "Since the data we have now does not contain NZ_city information but Police Station only, we cannot map it to the International visitors data. So, we are going to scrap the address of the each police station from a webpage and use it to map with the International visitors data with the City as a key field.\n",
    "\n",
    "#### `Refer the notenook attached \"PoliceStation_Info-Julia.pynb\" to get the web scraped data frame`\n",
    "\n",
    "Execute the julia notebook and continue with the section 3 of 'Crime.ipynb'"
   ]
  },
  {
   "cell_type": "markdown",
   "metadata": {},
   "source": [
    "## Section 3: Merging the Two datasets\n",
    "\n",
    "Loading the exported file that was created using Julia from web scraping to wrangle further."
   ]
  },
  {
   "cell_type": "markdown",
   "metadata": {},
   "source": [
    "The steps are as follows:\n",
    " 1. Loading the dataset\n",
    " 2. Data Cleaning\n",
    " 3. Merging the datasets\n",
    " 3. Reshaping the dataframe into common structure\n",
    " 4. Export into csv"
   ]
  },
  {
   "cell_type": "markdown",
   "metadata": {},
   "source": [
    "### Loading the dataset"
   ]
  },
  {
   "cell_type": "code",
   "execution_count": 6,
   "metadata": {},
   "outputs": [
    {
     "name": "stderr",
     "output_type": "stream",
     "text": [
      "Parsed with column specification:\n",
      "cols(\n",
      "  Police_station = \u001b[31mcol_character()\u001b[39m,\n",
      "  address = \u001b[31mcol_character()\u001b[39m\n",
      ")\n",
      "\n"
     ]
    }
   ],
   "source": [
    "# Reading the scraped file in CSV file format to police_data dataframe\n",
    "\n",
    "police_data = read_csv(\"Police_City_Output.csv\")"
   ]
  },
  {
   "cell_type": "markdown",
   "metadata": {},
   "source": [
    "### Data Cleaning"
   ]
  },
  {
   "cell_type": "code",
   "execution_count": 7,
   "metadata": {},
   "outputs": [
    {
     "name": "stderr",
     "output_type": "stream",
     "text": [
      "Warning message:\n",
      "\"Expected 3 pieces. Additional pieces discarded in 12 rows [11, 29, 73, 77, 139, 165, 187, 233, 265, 269, 311, 312].\"\n",
      "Warning message:\n",
      "\"Expected 3 pieces. Missing pieces filled with `NA` in 229 rows [2, 3, 4, 5, 7, 8, 9, 10, 14, 17, 18, 20, 21, 22, 23, 24, 26, 28, 31, 33, ...].\"\n"
     ]
    },
    {
     "name": "stdout",
     "output_type": "stream",
     "text": [
      "Observations: 326\n",
      "Variables: 4\n",
      "$ Police_station \u001b[3m\u001b[90m<chr>\u001b[39m\u001b[23m \"Air Support Unit\", \"Akaroa Police Station\", \"Alexan...\n",
      "$ number         \u001b[3m\u001b[90m<chr>\u001b[39m\u001b[23m \"\\n            3 Solent St\", \"\\n            9 Rue La...\n",
      "$ suburb         \u001b[3m\u001b[90m<chr>\u001b[39m\u001b[23m \"Mechanics Bay\", \"Akaroa\", \"Alexandra\", \"Amberley\", ...\n",
      "$ NZ_City        \u001b[3m\u001b[90m<chr>\u001b[39m\u001b[23m \"Auckland\", NA, NA, NA, NA, \"Queenstown\", NA, NA, NA...\n"
     ]
    }
   ],
   "source": [
    "# Seperate the address into number, suburb and NZ_City using \",\" seperator\n",
    "\n",
    "police_df <- police_data %>%\n",
    "                  separate(address, c(\"number\", \"suburb\", \"NZ_City\"), \",\")\n",
    "police_df %>% glimpse"
   ]
  },
  {
   "cell_type": "code",
   "execution_count": 8,
   "metadata": {},
   "outputs": [
    {
     "data": {
      "text/html": [
       "<table>\n",
       "<caption>A tibble: 6 × 2</caption>\n",
       "<thead>\n",
       "\t<tr><th scope=col>Police_station</th><th scope=col>NZ_City</th></tr>\n",
       "\t<tr><th scope=col>&lt;chr&gt;</th><th scope=col>&lt;chr&gt;</th></tr>\n",
       "</thead>\n",
       "<tbody>\n",
       "\t<tr><td>Air Support Unit                   </td><td>Auckland  </td></tr>\n",
       "\t<tr><td>Akaroa Police Station              </td><td>Akaroa    </td></tr>\n",
       "\t<tr><td>Alexandra Police Station           </td><td>Alexandra </td></tr>\n",
       "\t<tr><td>Amberley Police Station            </td><td>Amberley  </td></tr>\n",
       "\t<tr><td>Armoury (National)                 </td><td>Upper Hutt</td></tr>\n",
       "\t<tr><td>Arrowtown Community Policing Centre</td><td>Queenstown</td></tr>\n",
       "</tbody>\n",
       "</table>\n"
      ],
      "text/latex": [
       "A tibble: 6 × 2\n",
       "\\begin{tabular}{r|ll}\n",
       " Police\\_station & NZ\\_City\\\\\n",
       " <chr> & <chr>\\\\\n",
       "\\hline\n",
       "\t Air Support Unit                    & Auckland  \\\\\n",
       "\t Akaroa Police Station               & Akaroa    \\\\\n",
       "\t Alexandra Police Station            & Alexandra \\\\\n",
       "\t Amberley Police Station             & Amberley  \\\\\n",
       "\t Armoury (National)                  & Upper Hutt\\\\\n",
       "\t Arrowtown Community Policing Centre & Queenstown\\\\\n",
       "\\end{tabular}\n"
      ],
      "text/markdown": [
       "\n",
       "A tibble: 6 × 2\n",
       "\n",
       "| Police_station &lt;chr&gt; | NZ_City &lt;chr&gt; |\n",
       "|---|---|\n",
       "| Air Support Unit                    | Auckland   |\n",
       "| Akaroa Police Station               | Akaroa     |\n",
       "| Alexandra Police Station            | Alexandra  |\n",
       "| Amberley Police Station             | Amberley   |\n",
       "| Armoury (National)                  | Upper Hutt |\n",
       "| Arrowtown Community Policing Centre | Queenstown |\n",
       "\n"
      ],
      "text/plain": [
       "  Police_station                      NZ_City   \n",
       "1 Air Support Unit                    Auckland  \n",
       "2 Akaroa Police Station               Akaroa    \n",
       "3 Alexandra Police Station            Alexandra \n",
       "4 Amberley Police Station             Amberley  \n",
       "5 Armoury (National)                  Upper Hutt\n",
       "6 Arrowtown Community Policing Centre Queenstown"
      ]
     },
     "metadata": {},
     "output_type": "display_data"
    }
   ],
   "source": [
    "# Replaced the missing values in NZ_City column with Missing \n",
    "\n",
    "join <- police_df %>%\n",
    "            mutate(NZ_City = replace(NZ_City, is.na(NZ_City), \"Missing\"))\n",
    "\n",
    "# Rows which has 'Missing' value in NA_City column\n",
    "\n",
    "position <- join$NZ_City %in% \"Missing\"\n",
    "\n",
    "# Replace the correct city name to respective police station \n",
    "\n",
    "police_df[position,c(4)] <- police_df[position,c(3)]\n",
    "police_df[139,c(4)] <- police_df[139,c(3)]\n",
    "police_df[269,c(4)] <- police_df[269,c(3)]\n",
    "police_df[288,c(4)] <- police_df[288,c(3)]\n",
    "\n",
    "# Selected the required columns from the police_df datafame\n",
    "\n",
    "police_df <- police_df %>% select(Police_station,NZ_City)\n",
    "police_df %>% head"
   ]
  },
  {
   "cell_type": "code",
   "execution_count": 9,
   "metadata": {},
   "outputs": [],
   "source": [
    "# Renamed the city name as required format like in main dataset\n",
    "\n",
    "old <- c(\"Police Station\",\"Arthur\\'s Pass\",\"Auckland City District Headquarters\",\"Beachlands Community Policing Base\",\n",
    "         \"Christchurch Central\",\"Fitzroy\",\"Halfmoon Bay\",\"Henderson Community Constable\",\"Kaikorai Valley Community Policing Centre\",\n",
    "         \"Kamo\",\"Naenae Community Policing Centre\",\"North Shore\",\"Onerahi\",\"Palmerston North Central\",\"Papakura Central\",\n",
    "         \"Pio Pio\",\"Saint Andrews\",\"Te Awamutu Central\",\"Timaru Central\",\"Whanganui Central\",\"Whangarei Central\",\n",
    "         \"Kotemaori\",\"Pongaroa\",\"Haast\")\n",
    "\n",
    "new <- c(\" \",\"Arthurs Pass\",\"Auckland Harbour Bridge\",\"Beachlands CCB\",\"Christchurch\",\"Fitzroy CPC\",\"Half-Moon Bay\",\"Henderson\",\n",
    "         \"Kaikorai Valley\",\"Kamo CPC\",\"Naenae\",\"North Shore Policing Centre\",\"Onerahi CPC\",\"Palmerston North\",\"Papakura\",\"Piopio\",\n",
    "         \"St Andrews\",\"Te Awamutu\",\"Timaru\",\"Whanganui\",\"Whangarei\",\"Kotemaori\",\"Pongaroa\",\"Haast\")\n",
    "\n",
    "# Created the dataframe which will have the station name exisisting and new which needs to replace \n",
    "\n",
    "replace <- data.frame(old = old, new = new)\n",
    "\n",
    "# Looped the n(number of record in replace) times and replace the station names\n",
    "\n",
    "for(i in 1:nrow(replace))\n",
    "{   \n",
    "    police_df$Police_station <- gsub(replace[i,1], replace[i,2], police_df$Police_station)\n",
    "}\n",
    "\n",
    "# Replace the city name correctly  \n",
    "    police_df$NZ_City <- gsub(\"Beachlands 2018\",\"Beachlands\", police_df$NZ_City)\n",
    "\n",
    "# Replace the capital letter into lower case and changed the first letter to uppercase\n",
    "    AUCKLAND = \"AUCKLAND\"\n",
    "    CHRISTCHURCH = \"CHRISTCHURCH\"\n",
    "    auckland = tolower(AUCKLAND) \n",
    "    substr(auckland,1,1) = toupper(substr(auckland,1,1))\n",
    "    christchurch = tolower(CHRISTCHURCH) \n",
    "    substr(christchurch,1,1) = toupper(substr(christchurch,1,1))\n",
    "    police_df$NZ_City <- gsub(AUCKLAND,auckland, police_df$NZ_City)\n",
    "    police_df$NZ_City <- gsub(CHRISTCHURCH,christchurch, police_df$NZ_City)"
   ]
  },
  {
   "cell_type": "code",
   "execution_count": 10,
   "metadata": {},
   "outputs": [
    {
     "data": {
      "text/html": [
       "<table>\n",
       "<caption>A tibble: 6 × 2</caption>\n",
       "<thead>\n",
       "\t<tr><th scope=col>Police_station</th><th scope=col>NZ_City</th></tr>\n",
       "\t<tr><th scope=col>&lt;chr&gt;</th><th scope=col>&lt;chr&gt;</th></tr>\n",
       "</thead>\n",
       "<tbody>\n",
       "\t<tr><td>Air Support Unit                   </td><td>Auckland  </td></tr>\n",
       "\t<tr><td>Akaroa                             </td><td>Akaroa    </td></tr>\n",
       "\t<tr><td>Alexandra                          </td><td>Alexandra </td></tr>\n",
       "\t<tr><td>Amberley                           </td><td>Amberley  </td></tr>\n",
       "\t<tr><td>Armoury (National)                 </td><td>Upper Hutt</td></tr>\n",
       "\t<tr><td>Arrowtown Community Policing Centre</td><td>Queenstown</td></tr>\n",
       "</tbody>\n",
       "</table>\n"
      ],
      "text/latex": [
       "A tibble: 6 × 2\n",
       "\\begin{tabular}{r|ll}\n",
       " Police\\_station & NZ\\_City\\\\\n",
       " <chr> & <chr>\\\\\n",
       "\\hline\n",
       "\t Air Support Unit                    & Auckland  \\\\\n",
       "\t Akaroa                              & Akaroa    \\\\\n",
       "\t Alexandra                           & Alexandra \\\\\n",
       "\t Amberley                            & Amberley  \\\\\n",
       "\t Armoury (National)                  & Upper Hutt\\\\\n",
       "\t Arrowtown Community Policing Centre & Queenstown\\\\\n",
       "\\end{tabular}\n"
      ],
      "text/markdown": [
       "\n",
       "A tibble: 6 × 2\n",
       "\n",
       "| Police_station &lt;chr&gt; | NZ_City &lt;chr&gt; |\n",
       "|---|---|\n",
       "| Air Support Unit                    | Auckland   |\n",
       "| Akaroa                              | Akaroa     |\n",
       "| Alexandra                           | Alexandra  |\n",
       "| Amberley                            | Amberley   |\n",
       "| Armoury (National)                  | Upper Hutt |\n",
       "| Arrowtown Community Policing Centre | Queenstown |\n",
       "\n"
      ],
      "text/plain": [
       "  Police_station                      NZ_City   \n",
       "1 Air Support Unit                    Auckland  \n",
       "2 Akaroa                              Akaroa    \n",
       "3 Alexandra                           Alexandra \n",
       "4 Amberley                            Amberley  \n",
       "5 Armoury (National)                  Upper Hutt\n",
       "6 Arrowtown Community Policing Centre Queenstown"
      ]
     },
     "metadata": {},
     "output_type": "display_data"
    }
   ],
   "source": [
    "# Added few names and city to dataframe\n",
    "\n",
    "police_station <- c(\"Bell Block\",\"Greytown\",\"Manaia\",\"Tauranga\",\"Waipawa\",\"Hamilton East\",\"Havelock North\",\"Christchurch Airport\",\"Christchurch South\",\"Hamilton Central\",\"Tauranga South\",\"Not Known\")\n",
    "NZ_City <- c(\"New Plymouth\",\"Greytown\",\"Manaia\",\"Tauranga\",\"Waipukurau\",\"Hamilton\",\"Havelock\",\"Christchurch\",\"Christchurch\",\"Hamilton\",\"Tauranga\",\"Not Known\")\n",
    "police_missed <- data.frame(Police_station = police_station, NZ_City = NZ_City)\n",
    "police_df <- rbind(police_df,police_missed)\n",
    "police_df %>% head()"
   ]
  },
  {
   "cell_type": "markdown",
   "metadata": {},
   "source": [
    "### Merging the datasets"
   ]
  },
  {
   "cell_type": "code",
   "execution_count": 11,
   "metadata": {},
   "outputs": [],
   "source": [
    "#Loading the Crime data and the web scraped which has been wrangled below\n",
    "\n",
    "crime_stats <- final #from Section 1\n",
    "\n",
    "police_city <- rename(police_df,PoliceStation = Police_station) #from Section 3"
   ]
  },
  {
   "cell_type": "code",
   "execution_count": 18,
   "metadata": {},
   "outputs": [
    {
     "name": "stderr",
     "output_type": "stream",
     "text": [
      "Joining, by = \"PoliceStation\"\n",
      "\n"
     ]
    }
   ],
   "source": [
    "crime_full <- inner_join(crime_stats,police_city) %>% group_by(Year,Month,Quarter,NZ_City) %>% select(\"Year\",\"Month\",\"Quarter\",\"NZ_City\",\"PoliceStation\",\"CrimeCount\")"
   ]
  },
  {
   "cell_type": "code",
   "execution_count": 19,
   "metadata": {},
   "outputs": [
    {
     "name": "stdout",
     "output_type": "stream",
     "text": [
      "Observations: 961\n",
      "Variables: 6\n",
      "Groups: Year, Month, Quarter, NZ_City [778]\n",
      "$ Year          \u001b[3m\u001b[90m<dbl>\u001b[39m\u001b[23m 2014, 2014, 2014, 2014, 2014, 2014, 2014, 2014, 2014,...\n",
      "$ Month         \u001b[3m\u001b[90m<dbl>\u001b[39m\u001b[23m 7, 7, 7, 7, 7, 7, 7, 7, 7, 7, 7, 7, 7, 7, 7, 7, 8, 8,...\n",
      "$ Quarter       \u001b[3m\u001b[90m<yearqtr>\u001b[39m\u001b[23m 2014 Q3, 2014 Q3, 2014 Q3, 2014 Q3, 2014 Q3, 2014...\n",
      "$ NZ_City       \u001b[3m\u001b[90m<chr>\u001b[39m\u001b[23m \"Auckland\", \"Beachlands\", \"New Plymouth\", \"Christchur...\n",
      "$ PoliceStation \u001b[3m\u001b[90m<chr>\u001b[39m\u001b[23m \"Auckland Harbour Bridge\", \"Beachlands CCB\", \"Bell Bl...\n",
      "$ CrimeCount    \u001b[3m\u001b[90m<int>\u001b[39m\u001b[23m 1, 4, 17, 5, 85, 4, 254, 96, 16, 190, 37, 7, 66, 93, ...\n"
     ]
    }
   ],
   "source": [
    "crime_full %>% glimpse"
   ]
  },
  {
   "cell_type": "code",
   "execution_count": 20,
   "metadata": {},
   "outputs": [
    {
     "data": {
      "text/html": [
       "<table>\n",
       "<caption>A grouped_df: 6 × 6</caption>\n",
       "<thead>\n",
       "\t<tr><th scope=col>Year</th><th scope=col>Month</th><th scope=col>Quarter</th><th scope=col>NZ_City</th><th scope=col>PoliceStation</th><th scope=col>CrimeCount</th></tr>\n",
       "\t<tr><th scope=col>&lt;dbl&gt;</th><th scope=col>&lt;dbl&gt;</th><th scope=col>&lt;yearqtr&gt;</th><th scope=col>&lt;chr&gt;</th><th scope=col>&lt;chr&gt;</th><th scope=col>&lt;int&gt;</th></tr>\n",
       "</thead>\n",
       "<tbody>\n",
       "\t<tr><td>2014</td><td>7</td><td>2014 Q3</td><td>Auckland    </td><td>Auckland Harbour Bridge</td><td> 1</td></tr>\n",
       "\t<tr><td>2014</td><td>7</td><td>2014 Q3</td><td>Beachlands  </td><td>Beachlands CCB         </td><td> 4</td></tr>\n",
       "\t<tr><td>2014</td><td>7</td><td>2014 Q3</td><td>New Plymouth</td><td>Bell Block             </td><td>17</td></tr>\n",
       "\t<tr><td>2014</td><td>7</td><td>2014 Q3</td><td>Christchurch</td><td>Christchurch Airport   </td><td> 5</td></tr>\n",
       "\t<tr><td>2014</td><td>7</td><td>2014 Q3</td><td>Christchurch</td><td>Christchurch South     </td><td>85</td></tr>\n",
       "\t<tr><td>2014</td><td>7</td><td>2014 Q3</td><td>Greytown    </td><td>Greytown               </td><td> 4</td></tr>\n",
       "</tbody>\n",
       "</table>\n"
      ],
      "text/latex": [
       "A grouped_df: 6 × 6\n",
       "\\begin{tabular}{r|llllll}\n",
       " Year & Month & Quarter & NZ\\_City & PoliceStation & CrimeCount\\\\\n",
       " <dbl> & <dbl> & <yearqtr> & <chr> & <chr> & <int>\\\\\n",
       "\\hline\n",
       "\t 2014 & 7 & 2014 Q3 & Auckland     & Auckland Harbour Bridge &  1\\\\\n",
       "\t 2014 & 7 & 2014 Q3 & Beachlands   & Beachlands CCB          &  4\\\\\n",
       "\t 2014 & 7 & 2014 Q3 & New Plymouth & Bell Block              & 17\\\\\n",
       "\t 2014 & 7 & 2014 Q3 & Christchurch & Christchurch Airport    &  5\\\\\n",
       "\t 2014 & 7 & 2014 Q3 & Christchurch & Christchurch South      & 85\\\\\n",
       "\t 2014 & 7 & 2014 Q3 & Greytown     & Greytown                &  4\\\\\n",
       "\\end{tabular}\n"
      ],
      "text/markdown": [
       "\n",
       "A grouped_df: 6 × 6\n",
       "\n",
       "| Year &lt;dbl&gt; | Month &lt;dbl&gt; | Quarter &lt;yearqtr&gt; | NZ_City &lt;chr&gt; | PoliceStation &lt;chr&gt; | CrimeCount &lt;int&gt; |\n",
       "|---|---|---|---|---|---|\n",
       "| 2014 | 7 | 2014 Q3 | Auckland     | Auckland Harbour Bridge |  1 |\n",
       "| 2014 | 7 | 2014 Q3 | Beachlands   | Beachlands CCB          |  4 |\n",
       "| 2014 | 7 | 2014 Q3 | New Plymouth | Bell Block              | 17 |\n",
       "| 2014 | 7 | 2014 Q3 | Christchurch | Christchurch Airport    |  5 |\n",
       "| 2014 | 7 | 2014 Q3 | Christchurch | Christchurch South      | 85 |\n",
       "| 2014 | 7 | 2014 Q3 | Greytown     | Greytown                |  4 |\n",
       "\n"
      ],
      "text/plain": [
       "  Year Month Quarter NZ_City      PoliceStation           CrimeCount\n",
       "1 2014 7     2014 Q3 Auckland     Auckland Harbour Bridge  1        \n",
       "2 2014 7     2014 Q3 Beachlands   Beachlands CCB           4        \n",
       "3 2014 7     2014 Q3 New Plymouth Bell Block              17        \n",
       "4 2014 7     2014 Q3 Christchurch Christchurch Airport     5        \n",
       "5 2014 7     2014 Q3 Christchurch Christchurch South      85        \n",
       "6 2014 7     2014 Q3 Greytown     Greytown                 4        "
      ]
     },
     "metadata": {},
     "output_type": "display_data"
    }
   ],
   "source": [
    "crime_full %>% head"
   ]
  },
  {
   "cell_type": "markdown",
   "metadata": {},
   "source": [
    "### Export to CSV\n",
    "\n",
    "Exporting the fully merged data in a common structure for further wrangling"
   ]
  },
  {
   "cell_type": "code",
   "execution_count": 21,
   "metadata": {},
   "outputs": [],
   "source": [
    "write_csv(crime_full,\"Crime.csv\")"
   ]
  },
  {
   "cell_type": "markdown",
   "metadata": {},
   "source": [
    "### Visualization and Inferences\n",
    "\n",
    "Lets make some visualization from the final data to analyze further"
   ]
  },
  {
   "cell_type": "code",
   "execution_count": 22,
   "metadata": {},
   "outputs": [
    {
     "name": "stderr",
     "output_type": "stream",
     "text": [
      "Adding missing grouping variables: `Month`, `Quarter`\n",
      "\n",
      "Selecting by Number_of_Crimes\n",
      "\n"
     ]
    },
    {
     "data": {
      "text/html": [
       "<table>\n",
       "<caption>A grouped_df: 30 × 3</caption>\n",
       "<thead>\n",
       "\t<tr><th scope=col>Year</th><th scope=col>NZ_City</th><th scope=col>Number_of_Crimes</th></tr>\n",
       "\t<tr><th scope=col>&lt;dbl&gt;</th><th scope=col>&lt;chr&gt;</th><th scope=col>&lt;int&gt;</th></tr>\n",
       "</thead>\n",
       "<tbody>\n",
       "\t<tr><td>2017</td><td>Hamilton    </td><td>4926</td></tr>\n",
       "\t<tr><td>2018</td><td>Hamilton    </td><td>4761</td></tr>\n",
       "\t<tr><td>2016</td><td>Hamilton    </td><td>4407</td></tr>\n",
       "\t<tr><td>2015</td><td>Hamilton    </td><td>3924</td></tr>\n",
       "\t<tr><td>2018</td><td>Tauranga    </td><td>2888</td></tr>\n",
       "\t<tr><td>2019</td><td>Hamilton    </td><td>2829</td></tr>\n",
       "\t<tr><td>2017</td><td>Tauranga    </td><td>2764</td></tr>\n",
       "\t<tr><td>2017</td><td>Henderson   </td><td>2492</td></tr>\n",
       "\t<tr><td>2018</td><td>Henderson   </td><td>2457</td></tr>\n",
       "\t<tr><td>2016</td><td>Henderson   </td><td>2420</td></tr>\n",
       "\t<tr><td>2016</td><td>Tauranga    </td><td>2365</td></tr>\n",
       "\t<tr><td>2015</td><td>Tauranga    </td><td>2244</td></tr>\n",
       "\t<tr><td>2015</td><td>Henderson   </td><td>2211</td></tr>\n",
       "\t<tr><td>2014</td><td>Hamilton    </td><td>2096</td></tr>\n",
       "\t<tr><td>2019</td><td>Tauranga    </td><td>1707</td></tr>\n",
       "\t<tr><td>2018</td><td>Christchurch</td><td>1656</td></tr>\n",
       "\t<tr><td>2015</td><td>Christchurch</td><td>1458</td></tr>\n",
       "\t<tr><td>2017</td><td>Christchurch</td><td>1415</td></tr>\n",
       "\t<tr><td>2016</td><td>Christchurch</td><td>1414</td></tr>\n",
       "\t<tr><td>2019</td><td>Henderson   </td><td>1403</td></tr>\n",
       "\t<tr><td>2014</td><td>Henderson   </td><td>1130</td></tr>\n",
       "\t<tr><td>2014</td><td>Tauranga    </td><td>1062</td></tr>\n",
       "\t<tr><td>2018</td><td>Naenae      </td><td>1054</td></tr>\n",
       "\t<tr><td>2017</td><td>Naenae      </td><td>1008</td></tr>\n",
       "\t<tr><td>2016</td><td>Naenae      </td><td> 957</td></tr>\n",
       "\t<tr><td>2019</td><td>Christchurch</td><td> 926</td></tr>\n",
       "\t<tr><td>2015</td><td>Naenae      </td><td> 866</td></tr>\n",
       "\t<tr><td>2014</td><td>Christchurch</td><td> 669</td></tr>\n",
       "\t<tr><td>2019</td><td>Naenae      </td><td> 598</td></tr>\n",
       "\t<tr><td>2014</td><td>Naenae      </td><td> 411</td></tr>\n",
       "</tbody>\n",
       "</table>\n"
      ],
      "text/latex": [
       "A grouped_df: 30 × 3\n",
       "\\begin{tabular}{r|lll}\n",
       " Year & NZ\\_City & Number\\_of\\_Crimes\\\\\n",
       " <dbl> & <chr> & <int>\\\\\n",
       "\\hline\n",
       "\t 2017 & Hamilton     & 4926\\\\\n",
       "\t 2018 & Hamilton     & 4761\\\\\n",
       "\t 2016 & Hamilton     & 4407\\\\\n",
       "\t 2015 & Hamilton     & 3924\\\\\n",
       "\t 2018 & Tauranga     & 2888\\\\\n",
       "\t 2019 & Hamilton     & 2829\\\\\n",
       "\t 2017 & Tauranga     & 2764\\\\\n",
       "\t 2017 & Henderson    & 2492\\\\\n",
       "\t 2018 & Henderson    & 2457\\\\\n",
       "\t 2016 & Henderson    & 2420\\\\\n",
       "\t 2016 & Tauranga     & 2365\\\\\n",
       "\t 2015 & Tauranga     & 2244\\\\\n",
       "\t 2015 & Henderson    & 2211\\\\\n",
       "\t 2014 & Hamilton     & 2096\\\\\n",
       "\t 2019 & Tauranga     & 1707\\\\\n",
       "\t 2018 & Christchurch & 1656\\\\\n",
       "\t 2015 & Christchurch & 1458\\\\\n",
       "\t 2017 & Christchurch & 1415\\\\\n",
       "\t 2016 & Christchurch & 1414\\\\\n",
       "\t 2019 & Henderson    & 1403\\\\\n",
       "\t 2014 & Henderson    & 1130\\\\\n",
       "\t 2014 & Tauranga     & 1062\\\\\n",
       "\t 2018 & Naenae       & 1054\\\\\n",
       "\t 2017 & Naenae       & 1008\\\\\n",
       "\t 2016 & Naenae       &  957\\\\\n",
       "\t 2019 & Christchurch &  926\\\\\n",
       "\t 2015 & Naenae       &  866\\\\\n",
       "\t 2014 & Christchurch &  669\\\\\n",
       "\t 2019 & Naenae       &  598\\\\\n",
       "\t 2014 & Naenae       &  411\\\\\n",
       "\\end{tabular}\n"
      ],
      "text/markdown": [
       "\n",
       "A grouped_df: 30 × 3\n",
       "\n",
       "| Year &lt;dbl&gt; | NZ_City &lt;chr&gt; | Number_of_Crimes &lt;int&gt; |\n",
       "|---|---|---|\n",
       "| 2017 | Hamilton     | 4926 |\n",
       "| 2018 | Hamilton     | 4761 |\n",
       "| 2016 | Hamilton     | 4407 |\n",
       "| 2015 | Hamilton     | 3924 |\n",
       "| 2018 | Tauranga     | 2888 |\n",
       "| 2019 | Hamilton     | 2829 |\n",
       "| 2017 | Tauranga     | 2764 |\n",
       "| 2017 | Henderson    | 2492 |\n",
       "| 2018 | Henderson    | 2457 |\n",
       "| 2016 | Henderson    | 2420 |\n",
       "| 2016 | Tauranga     | 2365 |\n",
       "| 2015 | Tauranga     | 2244 |\n",
       "| 2015 | Henderson    | 2211 |\n",
       "| 2014 | Hamilton     | 2096 |\n",
       "| 2019 | Tauranga     | 1707 |\n",
       "| 2018 | Christchurch | 1656 |\n",
       "| 2015 | Christchurch | 1458 |\n",
       "| 2017 | Christchurch | 1415 |\n",
       "| 2016 | Christchurch | 1414 |\n",
       "| 2019 | Henderson    | 1403 |\n",
       "| 2014 | Henderson    | 1130 |\n",
       "| 2014 | Tauranga     | 1062 |\n",
       "| 2018 | Naenae       | 1054 |\n",
       "| 2017 | Naenae       | 1008 |\n",
       "| 2016 | Naenae       |  957 |\n",
       "| 2019 | Christchurch |  926 |\n",
       "| 2015 | Naenae       |  866 |\n",
       "| 2014 | Christchurch |  669 |\n",
       "| 2019 | Naenae       |  598 |\n",
       "| 2014 | Naenae       |  411 |\n",
       "\n"
      ],
      "text/plain": [
       "   Year NZ_City      Number_of_Crimes\n",
       "1  2017 Hamilton     4926            \n",
       "2  2018 Hamilton     4761            \n",
       "3  2016 Hamilton     4407            \n",
       "4  2015 Hamilton     3924            \n",
       "5  2018 Tauranga     2888            \n",
       "6  2019 Hamilton     2829            \n",
       "7  2017 Tauranga     2764            \n",
       "8  2017 Henderson    2492            \n",
       "9  2018 Henderson    2457            \n",
       "10 2016 Henderson    2420            \n",
       "11 2016 Tauranga     2365            \n",
       "12 2015 Tauranga     2244            \n",
       "13 2015 Henderson    2211            \n",
       "14 2014 Hamilton     2096            \n",
       "15 2019 Tauranga     1707            \n",
       "16 2018 Christchurch 1656            \n",
       "17 2015 Christchurch 1458            \n",
       "18 2017 Christchurch 1415            \n",
       "19 2016 Christchurch 1414            \n",
       "20 2019 Henderson    1403            \n",
       "21 2014 Henderson    1130            \n",
       "22 2014 Tauranga     1062            \n",
       "23 2018 Naenae       1054            \n",
       "24 2017 Naenae       1008            \n",
       "25 2016 Naenae        957            \n",
       "26 2019 Christchurch  926            \n",
       "27 2015 Naenae        866            \n",
       "28 2014 Christchurch  669            \n",
       "29 2019 Naenae        598            \n",
       "30 2014 Naenae        411            "
      ]
     },
     "metadata": {},
     "output_type": "display_data"
    }
   ],
   "source": [
    "#creating a dataframe for plotting bar chart\n",
    "vis1_c <- crime_full %>% \n",
    "        select(Year,NZ_City,CrimeCount) %>% group_by(Year,NZ_City) %>% \n",
    "        summarise(Number_of_Crimes = sum(CrimeCount)) %>% arrange(desc(Number_of_Crimes)) %>%\n",
    "        top_n(5)\n",
    "\n",
    "vis1_c"
   ]
  },
  {
   "cell_type": "code",
   "execution_count": 23,
   "metadata": {},
   "outputs": [
    {
     "data": {
      "image/png": "[encoded data removed]",
      "text/plain": [
       "plot without title"
      ]
     },
     "metadata": {
      "image/png": {
       "height": 420,
       "width": 420
      },
      "text/plain": {
       "height": 420,
       "width": 420
      }
     },
     "output_type": "display_data"
    }
   ],
   "source": [
    "#A area chart that compares the number of crimes among major New Zealand cities in the last 6 years.\n",
    "\n",
    "ggplot(vis1_c, aes(x = Year, y = Number_of_Crimes)) + \n",
    "  geom_area(aes(color = NZ_City, fill = NZ_City), \n",
    "            alpha = 0.5, position = position_dodge(0.8)) +\n",
    "  ggtitle(\"Number of crimes among major New Zealand cities in the last 6 years\")"
   ]
  },
  {
   "cell_type": "markdown",
   "metadata": {},
   "source": [
    "#### After executing this notebook, go to <b>`read_me.txt`</b> to execute the next notebook.\n",
    "\n",
    "If you have `already executed` all the other notebooks, `then` go to `section -3 in 'IVS.pynb'` that has IVS data"
   ]
  },
  {
   "cell_type": "code",
   "execution_count": null,
   "metadata": {},
   "outputs": [],
   "source": [
    "    "
   ]
  }
 ],
 "metadata": {
  "kernelspec": {
   "display_name": "R",
   "language": "R",
   "name": "ir"
  },
  "language_info": {
   "codemirror_mode": "r",
   "file_extension": ".r",
   "mimetype": "text/x-r-source",
   "name": "R",
   "pygments_lexer": "r",
   "version": "3.6.1"
  }
 },
 "nbformat": 4,
 "nbformat_minor": 4
}
