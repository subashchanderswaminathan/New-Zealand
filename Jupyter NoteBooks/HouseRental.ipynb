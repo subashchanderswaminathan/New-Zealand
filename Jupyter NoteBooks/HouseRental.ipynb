{
 "cells": [
  {
   "cell_type": "markdown",
   "metadata": {},
   "source": [
    "# DATA WRANGLING PROJECT \n",
    "\n",
    "## House Rental\n",
    "This notebook consists of the wrangling involved in `House Rental`\n",
    "\n",
    "The steps are as follows:\n",
    " 1. Loading and renaming the dataset\n",
    " 2. Aggregating the columns\n",
    " 3. Reshaping the dataframe into common structure\n",
    " 4. Export into csv"
   ]
  },
  {
   "cell_type": "code",
   "execution_count": 1,
   "metadata": {},
   "outputs": [
    {
     "name": "stderr",
     "output_type": "stream",
     "text": [
      "-- \u001b[1mAttaching packages\u001b[22m --------------------------------------- tidyverse 1.2.1 --\n",
      "\n",
      "\u001b[32mv\u001b[39m \u001b[34mggplot2\u001b[39m 3.2.1     \u001b[32mv\u001b[39m \u001b[34mpurrr  \u001b[39m 0.3.2\n",
      "\u001b[32mv\u001b[39m \u001b[34mtibble \u001b[39m 2.1.3     \u001b[32mv\u001b[39m \u001b[34mdplyr  \u001b[39m 0.8.3\n",
      "\u001b[32mv\u001b[39m \u001b[34mtidyr  \u001b[39m 0.8.3     \u001b[32mv\u001b[39m \u001b[34mstringr\u001b[39m 1.4.0\n",
      "\u001b[32mv\u001b[39m \u001b[34mreadr  \u001b[39m 1.3.1     \u001b[32mv\u001b[39m \u001b[34mforcats\u001b[39m 0.4.0\n",
      "\n",
      "-- \u001b[1mConflicts\u001b[22m ------------------------------------------ tidyverse_conflicts() --\n",
      "\u001b[31mx\u001b[39m \u001b[34mdplyr\u001b[39m::\u001b[32mfilter()\u001b[39m masks \u001b[34mstats\u001b[39m::filter()\n",
      "\u001b[31mx\u001b[39m \u001b[34mdplyr\u001b[39m::\u001b[32mlag()\u001b[39m    masks \u001b[34mstats\u001b[39m::lag()\n",
      "\n",
      "\n",
      "Attaching package: 'lubridate'\n",
      "\n",
      "\n",
      "The following object is masked from 'package:base':\n",
      "\n",
      "    date\n",
      "\n",
      "\n"
     ]
    }
   ],
   "source": [
    "#Loading the required libraries:\n",
    "library (tidyverse)\n",
    "library(lubridate)\n",
    "library(ggplot2)"
   ]
  },
  {
   "cell_type": "markdown",
   "metadata": {},
   "source": [
    "### Loading and Renaming the dataset"
   ]
  },
  {
   "cell_type": "code",
   "execution_count": 2,
   "metadata": {},
   "outputs": [],
   "source": [
    "#Reading CSV file into dataframe\n",
    "\n",
    "base_csv <- read_csv( \"ta-mean-rents.csv\",\n",
    "                col_types = cols(Month = col_date() #converting the field into date datatype\n",
    "                    )) \n",
    "\n",
    "#Since the values arre spreaded, we are using `gather()` below and renaming it\n",
    "unclean_df <- base_csv %>% gather(\"NZ_City\", \"Rent\", 2:74)\n",
    "clean_df <- rename(unclean_df, Date = Month)"
   ]
  },
  {
   "cell_type": "markdown",
   "metadata": {},
   "source": [
    "### Aggregating the columns"
   ]
  },
  {
   "cell_type": "code",
   "execution_count": 3,
   "metadata": {},
   "outputs": [],
   "source": [
    "#function to create Year,Month,Quarter(ymq)\n",
    "add_ymq <- function(df){\n",
    "            df %>%\n",
    "                mutate(Year = year(df$Date), \n",
    "                       Month = month(df$Date),\n",
    "                       Quarter = zoo::as.yearqtr(df$Date, format = \"%Y-%m-%d\")) %>%      # converted to year, month and date format\n",
    "                select(-c(\"Date\")) %>% select(c(3,4,5,1,2))\n",
    "    }\n",
    "\n",
    "#function to calculate avg rent\n",
    "add_avgrent <- function(df){\n",
    "                df %>%\n",
    "                    group_by(Year,Quarter,Month,NZ_City) %>%\n",
    "                    summarise(Avg_rent = mean(Rent)) }"
   ]
  },
  {
   "cell_type": "markdown",
   "metadata": {},
   "source": [
    "### Reshaping the dataframe into common structure\n",
    "so that it can be used in the data model with the rest of the enities."
   ]
  },
  {
   "cell_type": "code",
   "execution_count": 4,
   "metadata": {},
   "outputs": [],
   "source": [
    "final <- clean_df %>% add_ymq()  %>% add_avgrent() %>% na.omit()\n",
    "\n",
    "final <- final %>% select(\"Year\",\"Month\",\"Quarter\",\"NZ_City\",\"Avg_rent\")"
   ]
  },
  {
   "cell_type": "code",
   "execution_count": 5,
   "metadata": {},
   "outputs": [
    {
     "data": {
      "text/html": [
       "<table>\n",
       "<caption>A grouped_df: 6 × 5</caption>\n",
       "<thead>\n",
       "\t<tr><th scope=col>Year</th><th scope=col>Month</th><th scope=col>Quarter</th><th scope=col>NZ_City</th><th scope=col>Avg_rent</th></tr>\n",
       "\t<tr><th scope=col>&lt;dbl&gt;</th><th scope=col>&lt;dbl&gt;</th><th scope=col>&lt;yearqtr&gt;</th><th scope=col>&lt;chr&gt;</th><th scope=col>&lt;dbl&gt;</th></tr>\n",
       "</thead>\n",
       "<tbody>\n",
       "\t<tr><td>1993</td><td>1</td><td>1993 Q1</td><td>Ashburton District    </td><td>112</td></tr>\n",
       "\t<tr><td>1993</td><td>1</td><td>1993 Q1</td><td>Auckland              </td><td>200</td></tr>\n",
       "\t<tr><td>1993</td><td>1</td><td>1993 Q1</td><td>Buller District       </td><td> 92</td></tr>\n",
       "\t<tr><td>1993</td><td>1</td><td>1993 Q1</td><td>Carterton District    </td><td> 92</td></tr>\n",
       "\t<tr><td>1993</td><td>1</td><td>1993 Q1</td><td>Central Otago District</td><td> 98</td></tr>\n",
       "\t<tr><td>1993</td><td>1</td><td>1993 Q1</td><td>Christchurch          </td><td>152</td></tr>\n",
       "</tbody>\n",
       "</table>\n"
      ],
      "text/latex": [
       "A grouped_df: 6 × 5\n",
       "\\begin{tabular}{r|lllll}\n",
       " Year & Month & Quarter & NZ\\_City & Avg\\_rent\\\\\n",
       " <dbl> & <dbl> & <yearqtr> & <chr> & <dbl>\\\\\n",
       "\\hline\n",
       "\t 1993 & 1 & 1993 Q1 & Ashburton District     & 112\\\\\n",
       "\t 1993 & 1 & 1993 Q1 & Auckland               & 200\\\\\n",
       "\t 1993 & 1 & 1993 Q1 & Buller District        &  92\\\\\n",
       "\t 1993 & 1 & 1993 Q1 & Carterton District     &  92\\\\\n",
       "\t 1993 & 1 & 1993 Q1 & Central Otago District &  98\\\\\n",
       "\t 1993 & 1 & 1993 Q1 & Christchurch           & 152\\\\\n",
       "\\end{tabular}\n"
      ],
      "text/markdown": [
       "\n",
       "A grouped_df: 6 × 5\n",
       "\n",
       "| Year &lt;dbl&gt; | Month &lt;dbl&gt; | Quarter &lt;yearqtr&gt; | NZ_City &lt;chr&gt; | Avg_rent &lt;dbl&gt; |\n",
       "|---|---|---|---|---|\n",
       "| 1993 | 1 | 1993 Q1 | Ashburton District     | 112 |\n",
       "| 1993 | 1 | 1993 Q1 | Auckland               | 200 |\n",
       "| 1993 | 1 | 1993 Q1 | Buller District        |  92 |\n",
       "| 1993 | 1 | 1993 Q1 | Carterton District     |  92 |\n",
       "| 1993 | 1 | 1993 Q1 | Central Otago District |  98 |\n",
       "| 1993 | 1 | 1993 Q1 | Christchurch           | 152 |\n",
       "\n"
      ],
      "text/plain": [
       "  Year Month Quarter NZ_City                Avg_rent\n",
       "1 1993 1     1993 Q1 Ashburton District     112     \n",
       "2 1993 1     1993 Q1 Auckland               200     \n",
       "3 1993 1     1993 Q1 Buller District         92     \n",
       "4 1993 1     1993 Q1 Carterton District      92     \n",
       "5 1993 1     1993 Q1 Central Otago District  98     \n",
       "6 1993 1     1993 Q1 Christchurch           152     "
      ]
     },
     "metadata": {},
     "output_type": "display_data"
    }
   ],
   "source": [
    "final %>% head()"
   ]
  },
  {
   "cell_type": "markdown",
   "metadata": {},
   "source": [
    "### Export into csv\n",
    "\n",
    "The below exported file is further used in `section -3 of 'IVS.pynb'` that has IVS data for further analysis."
   ]
  },
  {
   "cell_type": "code",
   "execution_count": 6,
   "metadata": {},
   "outputs": [],
   "source": [
    "write_csv(final,\"Rental.csv\")"
   ]
  },
  {
   "cell_type": "markdown",
   "metadata": {},
   "source": [
    "### Visualization and Inferences\n",
    "\n",
    "Lets make some visualization from the final data to analyze further"
   ]
  },
  {
   "cell_type": "code",
   "execution_count": 7,
   "metadata": {},
   "outputs": [
    {
     "name": "stderr",
     "output_type": "stream",
     "text": [
      "Adding missing grouping variables: `Quarter`, `Month`\n",
      "\n"
     ]
    },
    {
     "data": {
      "text/html": [
       "<table>\n",
       "<caption>A grouped_df: 24 × 3</caption>\n",
       "<thead>\n",
       "\t<tr><th scope=col>Year</th><th scope=col>NZ_City</th><th scope=col>Avg_HouseRental</th></tr>\n",
       "\t<tr><th scope=col>&lt;dbl&gt;</th><th scope=col>&lt;chr&gt;</th><th scope=col>&lt;dbl&gt;</th></tr>\n",
       "</thead>\n",
       "<tbody>\n",
       "\t<tr><td>2014</td><td>Auckland                 </td><td>476.0000</td></tr>\n",
       "\t<tr><td>2014</td><td>Christchurch             </td><td>414.3333</td></tr>\n",
       "\t<tr><td>2014</td><td>Queenstown-Lakes District</td><td>403.3333</td></tr>\n",
       "\t<tr><td>2014</td><td>Wellington               </td><td>435.5000</td></tr>\n",
       "\t<tr><td>2015</td><td>Auckland                 </td><td>506.4167</td></tr>\n",
       "\t<tr><td>2015</td><td>Christchurch             </td><td>400.5833</td></tr>\n",
       "\t<tr><td>2015</td><td>Queenstown-Lakes District</td><td>441.8333</td></tr>\n",
       "\t<tr><td>2015</td><td>Wellington               </td><td>440.8333</td></tr>\n",
       "\t<tr><td>2016</td><td>Auckland                 </td><td>528.9167</td></tr>\n",
       "\t<tr><td>2016</td><td>Christchurch             </td><td>385.3333</td></tr>\n",
       "\t<tr><td>2016</td><td>Queenstown-Lakes District</td><td>519.7500</td></tr>\n",
       "\t<tr><td>2016</td><td>Wellington               </td><td>461.3333</td></tr>\n",
       "\t<tr><td>2017</td><td>Auckland                 </td><td>546.1667</td></tr>\n",
       "\t<tr><td>2017</td><td>Christchurch             </td><td>371.5000</td></tr>\n",
       "\t<tr><td>2017</td><td>Queenstown-Lakes District</td><td>563.4167</td></tr>\n",
       "\t<tr><td>2017</td><td>Wellington               </td><td>486.0000</td></tr>\n",
       "\t<tr><td>2018</td><td>Auckland                 </td><td>559.3333</td></tr>\n",
       "\t<tr><td>2018</td><td>Christchurch             </td><td>377.9167</td></tr>\n",
       "\t<tr><td>2018</td><td>Queenstown-Lakes District</td><td>608.7500</td></tr>\n",
       "\t<tr><td>2018</td><td>Wellington               </td><td>515.5000</td></tr>\n",
       "\t<tr><td>2019</td><td>Auckland                 </td><td>569.8889</td></tr>\n",
       "\t<tr><td>2019</td><td>Christchurch             </td><td>388.5556</td></tr>\n",
       "\t<tr><td>2019</td><td>Queenstown-Lakes District</td><td>636.0000</td></tr>\n",
       "\t<tr><td>2019</td><td>Wellington               </td><td>560.4444</td></tr>\n",
       "</tbody>\n",
       "</table>\n"
      ],
      "text/latex": [
       "A grouped_df: 24 × 3\n",
       "\\begin{tabular}{r|lll}\n",
       " Year & NZ\\_City & Avg\\_HouseRental\\\\\n",
       " <dbl> & <chr> & <dbl>\\\\\n",
       "\\hline\n",
       "\t 2014 & Auckland                  & 476.0000\\\\\n",
       "\t 2014 & Christchurch              & 414.3333\\\\\n",
       "\t 2014 & Queenstown-Lakes District & 403.3333\\\\\n",
       "\t 2014 & Wellington                & 435.5000\\\\\n",
       "\t 2015 & Auckland                  & 506.4167\\\\\n",
       "\t 2015 & Christchurch              & 400.5833\\\\\n",
       "\t 2015 & Queenstown-Lakes District & 441.8333\\\\\n",
       "\t 2015 & Wellington                & 440.8333\\\\\n",
       "\t 2016 & Auckland                  & 528.9167\\\\\n",
       "\t 2016 & Christchurch              & 385.3333\\\\\n",
       "\t 2016 & Queenstown-Lakes District & 519.7500\\\\\n",
       "\t 2016 & Wellington                & 461.3333\\\\\n",
       "\t 2017 & Auckland                  & 546.1667\\\\\n",
       "\t 2017 & Christchurch              & 371.5000\\\\\n",
       "\t 2017 & Queenstown-Lakes District & 563.4167\\\\\n",
       "\t 2017 & Wellington                & 486.0000\\\\\n",
       "\t 2018 & Auckland                  & 559.3333\\\\\n",
       "\t 2018 & Christchurch              & 377.9167\\\\\n",
       "\t 2018 & Queenstown-Lakes District & 608.7500\\\\\n",
       "\t 2018 & Wellington                & 515.5000\\\\\n",
       "\t 2019 & Auckland                  & 569.8889\\\\\n",
       "\t 2019 & Christchurch              & 388.5556\\\\\n",
       "\t 2019 & Queenstown-Lakes District & 636.0000\\\\\n",
       "\t 2019 & Wellington                & 560.4444\\\\\n",
       "\\end{tabular}\n"
      ],
      "text/markdown": [
       "\n",
       "A grouped_df: 24 × 3\n",
       "\n",
       "| Year &lt;dbl&gt; | NZ_City &lt;chr&gt; | Avg_HouseRental &lt;dbl&gt; |\n",
       "|---|---|---|\n",
       "| 2014 | Auckland                  | 476.0000 |\n",
       "| 2014 | Christchurch              | 414.3333 |\n",
       "| 2014 | Queenstown-Lakes District | 403.3333 |\n",
       "| 2014 | Wellington                | 435.5000 |\n",
       "| 2015 | Auckland                  | 506.4167 |\n",
       "| 2015 | Christchurch              | 400.5833 |\n",
       "| 2015 | Queenstown-Lakes District | 441.8333 |\n",
       "| 2015 | Wellington                | 440.8333 |\n",
       "| 2016 | Auckland                  | 528.9167 |\n",
       "| 2016 | Christchurch              | 385.3333 |\n",
       "| 2016 | Queenstown-Lakes District | 519.7500 |\n",
       "| 2016 | Wellington                | 461.3333 |\n",
       "| 2017 | Auckland                  | 546.1667 |\n",
       "| 2017 | Christchurch              | 371.5000 |\n",
       "| 2017 | Queenstown-Lakes District | 563.4167 |\n",
       "| 2017 | Wellington                | 486.0000 |\n",
       "| 2018 | Auckland                  | 559.3333 |\n",
       "| 2018 | Christchurch              | 377.9167 |\n",
       "| 2018 | Queenstown-Lakes District | 608.7500 |\n",
       "| 2018 | Wellington                | 515.5000 |\n",
       "| 2019 | Auckland                  | 569.8889 |\n",
       "| 2019 | Christchurch              | 388.5556 |\n",
       "| 2019 | Queenstown-Lakes District | 636.0000 |\n",
       "| 2019 | Wellington                | 560.4444 |\n",
       "\n"
      ],
      "text/plain": [
       "   Year NZ_City                   Avg_HouseRental\n",
       "1  2014 Auckland                  476.0000       \n",
       "2  2014 Christchurch              414.3333       \n",
       "3  2014 Queenstown-Lakes District 403.3333       \n",
       "4  2014 Wellington                435.5000       \n",
       "5  2015 Auckland                  506.4167       \n",
       "6  2015 Christchurch              400.5833       \n",
       "7  2015 Queenstown-Lakes District 441.8333       \n",
       "8  2015 Wellington                440.8333       \n",
       "9  2016 Auckland                  528.9167       \n",
       "10 2016 Christchurch              385.3333       \n",
       "11 2016 Queenstown-Lakes District 519.7500       \n",
       "12 2016 Wellington                461.3333       \n",
       "13 2017 Auckland                  546.1667       \n",
       "14 2017 Christchurch              371.5000       \n",
       "15 2017 Queenstown-Lakes District 563.4167       \n",
       "16 2017 Wellington                486.0000       \n",
       "17 2018 Auckland                  559.3333       \n",
       "18 2018 Christchurch              377.9167       \n",
       "19 2018 Queenstown-Lakes District 608.7500       \n",
       "20 2018 Wellington                515.5000       \n",
       "21 2019 Auckland                  569.8889       \n",
       "22 2019 Christchurch              388.5556       \n",
       "23 2019 Queenstown-Lakes District 636.0000       \n",
       "24 2019 Wellington                560.4444       "
      ]
     },
     "metadata": {},
     "output_type": "display_data"
    }
   ],
   "source": [
    "#creating a dataframe for plotting area chart\n",
    "vis1_HR <- final %>% filter(Year >= 2014) %>% filter(NZ_City == \"Christchurch\" | NZ_City == \"Auckland\" | NZ_City == \"Wellington\" | NZ_City == \"Queenstown-Lakes District\") %>% \n",
    "                    select(Year,NZ_City,Avg_rent) %>% \n",
    "                    group_by(Year,NZ_City) %>% \n",
    "                    summarise(Avg_HouseRental = mean(Avg_rent))\n",
    "vis1_HR"
   ]
  },
  {
   "cell_type": "code",
   "execution_count": 8,
   "metadata": {},
   "outputs": [
    {
     "data": {
      "image/png": "[encoded data removed]",
      "text/plain": [
       "plot without title"
      ]
     },
     "metadata": {
      "image/png": {
       "height": 420,
       "width": 420
      },
      "text/plain": {
       "height": 420,
       "width": 420
      }
     },
     "output_type": "display_data"
    }
   ],
   "source": [
    "#A area chart that compares the average hosue rentals among 4 New Zealand cities in the last 6 years.\n",
    "\n",
    "ggplot(vis1_HR, aes(x = Year, y = Avg_HouseRental)) + \n",
    "  geom_area(aes(color = NZ_City, fill = NZ_City), \n",
    "            alpha = 0.5, position = position_dodge(0.8)) +\n",
    "  ggtitle(\"Average hosue rentals among 4 New Zealand cities in the last 6 years\")"
   ]
  },
  {
   "cell_type": "markdown",
   "metadata": {},
   "source": [
    "#### After executing this notebook, go to <b>`read_me.txt`</b> to execute the next notebook.\n",
    "\n",
    "If you have `already executed` all the other notebooks, `then` go to `section -3 in 'IVS.pynb'` that has IVS data"
   ]
  },
  {
   "cell_type": "code",
   "execution_count": null,
   "metadata": {},
   "outputs": [],
   "source": []
  }
 ],
 "metadata": {
  "kernelspec": {
   "display_name": "R",
   "language": "R",
   "name": "ir"
  },
  "language_info": {
   "codemirror_mode": "r",
   "file_extension": ".r",
   "mimetype": "text/x-r-source",
   "name": "R",
   "pygments_lexer": "r",
   "version": "3.6.1"
  }
 },
 "nbformat": 4,
 "nbformat_minor": 4
}
