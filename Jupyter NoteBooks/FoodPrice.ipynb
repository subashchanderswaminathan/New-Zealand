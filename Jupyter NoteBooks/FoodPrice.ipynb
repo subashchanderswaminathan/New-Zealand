{
 "cells": [
  {
   "cell_type": "markdown",
   "metadata": {},
   "source": [
    "## Food Price\n",
    "This notebook consists of the wrangling involved in `Food Price`\n",
    "\n",
    "The steps are as follows:\n",
    " 1. Loading and renaming the dataset\n",
    " 2. Aggregating the columns\n",
    " 3. Reshaping the dataframe into common structure\n",
    " 4. Export into csv"
   ]
  },
  {
   "cell_type": "code",
   "execution_count": 1,
   "metadata": {},
   "outputs": [
    {
     "name": "stderr",
     "output_type": "stream",
     "text": [
      "-- \u001b[1mAttaching packages\u001b[22m --------------------------------------- tidyverse 1.2.1 --\n",
      "\n",
      "\u001b[32mv\u001b[39m \u001b[34mggplot2\u001b[39m 3.2.1     \u001b[32mv\u001b[39m \u001b[34mpurrr  \u001b[39m 0.3.2\n",
      "\u001b[32mv\u001b[39m \u001b[34mtibble \u001b[39m 2.1.3     \u001b[32mv\u001b[39m \u001b[34mdplyr  \u001b[39m 0.8.3\n",
      "\u001b[32mv\u001b[39m \u001b[34mtidyr  \u001b[39m 0.8.3     \u001b[32mv\u001b[39m \u001b[34mstringr\u001b[39m 1.4.0\n",
      "\u001b[32mv\u001b[39m \u001b[34mreadr  \u001b[39m 1.3.1     \u001b[32mv\u001b[39m \u001b[34mforcats\u001b[39m 0.4.0\n",
      "\n",
      "-- \u001b[1mConflicts\u001b[22m ------------------------------------------ tidyverse_conflicts() --\n",
      "\u001b[31mx\u001b[39m \u001b[34mdplyr\u001b[39m::\u001b[32mfilter()\u001b[39m masks \u001b[34mstats\u001b[39m::filter()\n",
      "\u001b[31mx\u001b[39m \u001b[34mdplyr\u001b[39m::\u001b[32mlag()\u001b[39m    masks \u001b[34mstats\u001b[39m::lag()\n",
      "\n",
      "\n",
      "Attaching package: 'lubridate'\n",
      "\n",
      "\n",
      "The following object is masked from 'package:base':\n",
      "\n",
      "    date\n",
      "\n",
      "\n"
     ]
    }
   ],
   "source": [
    "#Loading the required libraries:\n",
    "library (tidyverse)\n",
    "library(lubridate)  \n",
    "library(stringr)\n",
    "library(ggplot2)"
   ]
  },
  {
   "cell_type": "markdown",
   "metadata": {},
   "source": [
    "### Loading and renaming the dataset"
   ]
  },
  {
   "cell_type": "code",
   "execution_count": 2,
   "metadata": {},
   "outputs": [
    {
     "name": "stdout",
     "output_type": "stream",
     "text": [
      "Observations: 244\n",
      "Variables: 3\n",
      "$ Date           \u001b[3m\u001b[90m<chr>\u001b[39m\u001b[23m \"1999.06\", \"1999.07\", \"1999.08\", \"1999.09\", \"1999.1\"...\n",
      "$ Avg_Meal_Price \u001b[3m\u001b[90m<dbl>\u001b[39m\u001b[23m 616.3569, 617.1004, 617.1004, 619.3309, 620.0743, 62...\n",
      "$ Category       \u001b[3m\u001b[90m<chr>\u001b[39m\u001b[23m \"Restaurant meals and ready-to-eat food\", \"Restauran...\n"
     ]
    }
   ],
   "source": [
    "#Loading the file and wrangling it \n",
    "\n",
    "base_csv <- read_csv(\"food-price-index-sept19-index-numbers.csv\",\n",
    "                col_types = cols(Period = col_character()))\n",
    "\n",
    "unclean_df <- base_csv %>% filter(Series_title_1 == \"Restaurant meals and ready-to-eat food\") %>%  select(c(2,3,8))\n",
    "\n",
    "unclean_df <- rename(unclean_df, Date = Period, Avg_Meal_Price = Data_value,Category = Series_title_1)\n",
    "\n",
    "unclean_df %>% glimpse"
   ]
  },
  {
   "cell_type": "markdown",
   "metadata": {},
   "source": [
    "### Aggregating the columns"
   ]
  },
  {
   "cell_type": "code",
   "execution_count": 3,
   "metadata": {},
   "outputs": [],
   "source": [
    "#creating a function to parse date and aggregate columns\n",
    "\n",
    "add_ymq <- function(df){\n",
    "            df %>%\n",
    "                mutate(Year = year(df$Date), \n",
    "                       Month = month(df$Date),\n",
    "                       Quarter = zoo::as.yearqtr(df$Date, format = \"%Y-%m-%d\")) %>%\n",
    "                select(-c(\"Date\")) %>%  #removing the \"Date\" column\n",
    "                select(c(3,4,5,1,2))  #selecting the column in the required order\n",
    "    }\n",
    "\n",
    "# Adding dummy date to convert to date format\n",
    "parse_date <- function(x){\n",
    "a <- x\n",
    "a <- gsub(\"[.][1]$\",\".10\",a$Date)  \n",
    "a <- paste(a,\"-1\",sep =\"\")\n",
    "a <- gsub(\"[.]\",\"-\",a)\n",
    "a <- as.Date(a)\n",
    "    }\n",
    "\n",
    "wrangle_food <- function(df){\n",
    "df %>% \n",
    "    mutate(Date = parse_date(df)) %>%  \n",
    "    add_ymq() %>%\n",
    "    select(c(1:4))\n",
    "    }"
   ]
  },
  {
   "cell_type": "markdown",
   "metadata": {},
   "source": [
    "### Reshaping the dataframe into common structure"
   ]
  },
  {
   "cell_type": "code",
   "execution_count": 4,
   "metadata": {},
   "outputs": [
    {
     "data": {
      "text/html": [
       "<table>\n",
       "<caption>A tibble: 6 × 4</caption>\n",
       "<thead>\n",
       "\t<tr><th scope=col>Year</th><th scope=col>Month</th><th scope=col>Quarter</th><th scope=col>Avg_Meal_Price</th></tr>\n",
       "\t<tr><th scope=col>&lt;dbl&gt;</th><th scope=col>&lt;dbl&gt;</th><th scope=col>&lt;yearqtr&gt;</th><th scope=col>&lt;dbl&gt;</th></tr>\n",
       "</thead>\n",
       "<tbody>\n",
       "\t<tr><td>1999</td><td> 6</td><td>1999 Q2</td><td>616.3569</td></tr>\n",
       "\t<tr><td>1999</td><td> 7</td><td>1999 Q3</td><td>617.1004</td></tr>\n",
       "\t<tr><td>1999</td><td> 8</td><td>1999 Q3</td><td>617.1004</td></tr>\n",
       "\t<tr><td>1999</td><td> 9</td><td>1999 Q3</td><td>619.3309</td></tr>\n",
       "\t<tr><td>1999</td><td>10</td><td>1999 Q4</td><td>620.0743</td></tr>\n",
       "\t<tr><td>1999</td><td>11</td><td>1999 Q4</td><td>620.0743</td></tr>\n",
       "</tbody>\n",
       "</table>\n"
      ],
      "text/latex": [
       "A tibble: 6 × 4\n",
       "\\begin{tabular}{r|llll}\n",
       " Year & Month & Quarter & Avg\\_Meal\\_Price\\\\\n",
       " <dbl> & <dbl> & <yearqtr> & <dbl>\\\\\n",
       "\\hline\n",
       "\t 1999 &  6 & 1999 Q2 & 616.3569\\\\\n",
       "\t 1999 &  7 & 1999 Q3 & 617.1004\\\\\n",
       "\t 1999 &  8 & 1999 Q3 & 617.1004\\\\\n",
       "\t 1999 &  9 & 1999 Q3 & 619.3309\\\\\n",
       "\t 1999 & 10 & 1999 Q4 & 620.0743\\\\\n",
       "\t 1999 & 11 & 1999 Q4 & 620.0743\\\\\n",
       "\\end{tabular}\n"
      ],
      "text/markdown": [
       "\n",
       "A tibble: 6 × 4\n",
       "\n",
       "| Year &lt;dbl&gt; | Month &lt;dbl&gt; | Quarter &lt;yearqtr&gt; | Avg_Meal_Price &lt;dbl&gt; |\n",
       "|---|---|---|---|\n",
       "| 1999 |  6 | 1999 Q2 | 616.3569 |\n",
       "| 1999 |  7 | 1999 Q3 | 617.1004 |\n",
       "| 1999 |  8 | 1999 Q3 | 617.1004 |\n",
       "| 1999 |  9 | 1999 Q3 | 619.3309 |\n",
       "| 1999 | 10 | 1999 Q4 | 620.0743 |\n",
       "| 1999 | 11 | 1999 Q4 | 620.0743 |\n",
       "\n"
      ],
      "text/plain": [
       "  Year Month Quarter Avg_Meal_Price\n",
       "1 1999  6    1999 Q2 616.3569      \n",
       "2 1999  7    1999 Q3 617.1004      \n",
       "3 1999  8    1999 Q3 617.1004      \n",
       "4 1999  9    1999 Q3 619.3309      \n",
       "5 1999 10    1999 Q4 620.0743      \n",
       "6 1999 11    1999 Q4 620.0743      "
      ]
     },
     "metadata": {},
     "output_type": "display_data"
    }
   ],
   "source": [
    "final <- unclean_df %>% wrangle_food()\n",
    "final %>% head()"
   ]
  },
  {
   "cell_type": "markdown",
   "metadata": {},
   "source": [
    "### Export into csv\n",
    "\n",
    "The below exported file is further used in `section -3 of 'IVS.pynb'` that has IVS data for further analysis."
   ]
  },
  {
   "cell_type": "code",
   "execution_count": 5,
   "metadata": {},
   "outputs": [],
   "source": [
    "write_csv(final,\"FoodPrice.csv\")"
   ]
  },
  {
   "cell_type": "markdown",
   "metadata": {},
   "source": [
    "### Visualization and Inferences\n",
    "\n",
    "Lets make some visualization from the final data to analyze further"
   ]
  },
  {
   "cell_type": "code",
   "execution_count": 6,
   "metadata": {},
   "outputs": [
    {
     "data": {
      "text/html": [
       "<table>\n",
       "<caption>A tibble: 6 × 2</caption>\n",
       "<thead>\n",
       "\t<tr><th scope=col>Year</th><th scope=col>Avg_MealPrice</th></tr>\n",
       "\t<tr><th scope=col>&lt;dbl&gt;</th><th scope=col>&lt;dbl&gt;</th></tr>\n",
       "</thead>\n",
       "<tbody>\n",
       "\t<tr><td>2014</td><td> 944.5477</td></tr>\n",
       "\t<tr><td>2015</td><td> 961.9579</td></tr>\n",
       "\t<tr><td>2016</td><td> 980.2974</td></tr>\n",
       "\t<tr><td>2017</td><td>1001.4870</td></tr>\n",
       "\t<tr><td>2018</td><td>1029.6667</td></tr>\n",
       "\t<tr><td>2019</td><td>1058.1111</td></tr>\n",
       "</tbody>\n",
       "</table>\n"
      ],
      "text/latex": [
       "A tibble: 6 × 2\n",
       "\\begin{tabular}{r|ll}\n",
       " Year & Avg\\_MealPrice\\\\\n",
       " <dbl> & <dbl>\\\\\n",
       "\\hline\n",
       "\t 2014 &  944.5477\\\\\n",
       "\t 2015 &  961.9579\\\\\n",
       "\t 2016 &  980.2974\\\\\n",
       "\t 2017 & 1001.4870\\\\\n",
       "\t 2018 & 1029.6667\\\\\n",
       "\t 2019 & 1058.1111\\\\\n",
       "\\end{tabular}\n"
      ],
      "text/markdown": [
       "\n",
       "A tibble: 6 × 2\n",
       "\n",
       "| Year &lt;dbl&gt; | Avg_MealPrice &lt;dbl&gt; |\n",
       "|---|---|\n",
       "| 2014 |  944.5477 |\n",
       "| 2015 |  961.9579 |\n",
       "| 2016 |  980.2974 |\n",
       "| 2017 | 1001.4870 |\n",
       "| 2018 | 1029.6667 |\n",
       "| 2019 | 1058.1111 |\n",
       "\n"
      ],
      "text/plain": [
       "  Year Avg_MealPrice\n",
       "1 2014  944.5477    \n",
       "2 2015  961.9579    \n",
       "3 2016  980.2974    \n",
       "4 2017 1001.4870    \n",
       "5 2018 1029.6667    \n",
       "6 2019 1058.1111    "
      ]
     },
     "metadata": {},
     "output_type": "display_data"
    }
   ],
   "source": [
    "#creating a dataframe for plotting line chart\n",
    "vis_FP <- final %>% \n",
    "        filter(Year >= 2014) %>% \n",
    "        select(Year,Avg_Meal_Price) %>% \n",
    "        group_by(Year) %>% \n",
    "        summarise( Avg_MealPrice = mean(Avg_Meal_Price))\n",
    "vis_FP"
   ]
  },
  {
   "cell_type": "code",
   "execution_count": 7,
   "metadata": {},
   "outputs": [
    {
     "data": {
      "image/png": "[encoded data removed]",
      "text/plain": [
       "plot without title"
      ]
     },
     "metadata": {
      "image/png": {
       "height": 420,
       "width": 420
      },
      "text/plain": {
       "height": 420,
       "width": 420
      }
     },
     "output_type": "display_data"
    }
   ],
   "source": [
    "# A line chart that shows the trend of average meal price over the last 6 years\n",
    "plot1 <- ggplot(vis_FP, aes(x = Year, y = Avg_MealPrice)) \n",
    "plot1 + geom_line(aes(color = Year)) +   ggtitle(\"Average meal price over last 6 years\")"
   ]
  },
  {
   "cell_type": "markdown",
   "metadata": {},
   "source": [
    "#### After executing this notebook, go to <b>`read_me.txt`</b> to execute the next notebook.\n",
    "\n",
    "If you have `already executed` all the other notebooks, `then` go to `section -3 in 'IVS.pynb'` that has IVS data"
   ]
  },
  {
   "cell_type": "code",
   "execution_count": null,
   "metadata": {},
   "outputs": [],
   "source": []
  }
 ],
 "metadata": {
  "kernelspec": {
   "display_name": "R",
   "language": "R",
   "name": "ir"
  },
  "language_info": {
   "codemirror_mode": "r",
   "file_extension": ".r",
   "mimetype": "text/x-r-source",
   "name": "R",
   "pygments_lexer": "r",
   "version": "3.6.1"
  }
 },
 "nbformat": 4,
 "nbformat_minor": 4
}
