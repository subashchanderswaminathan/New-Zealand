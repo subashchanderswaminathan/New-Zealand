{
 "cells": [
  {
   "cell_type": "markdown",
   "metadata": {},
   "source": [
    "# DATA WRANGLING PROJECT \n",
    "\n",
    "# Student Name & ID:\n",
    " 1. Siddharth Raj Saravanan - 12198198\n",
    " 2. Subash Chander Swaminathan - 69873432\n",
    " 3. Santhosh Balaaji Sowrirajalu Ramamurthy - 83451338\n",
    " 4. Joel Mathew - 59414071\n",
    " \n",
    "## Police station Location Information\n",
    "This notebook consists of the scraping involved in collecting `Police Station Info`\n",
    "\n",
    "The steps are as follows:\n",
    " 1. Web scraping\n",
    " 2. Export into csv"
   ]
  },
  {
   "cell_type": "code",
   "execution_count": 5,
   "metadata": {},
   "outputs": [],
   "source": [
    "# Libraries required\n",
    "using Pkg \n",
    "using HTTP, Gumbo, Cascadia\n",
    "using DataFrames\n",
    "using Cascadia\n",
    "using CSV"
   ]
  },
  {
   "cell_type": "markdown",
   "metadata": {},
   "source": [
    "## Web scraping"
   ]
  },
  {
   "cell_type": "code",
   "execution_count": 6,
   "metadata": {},
   "outputs": [],
   "source": [
    "# Scraping the police station name and address from website\n",
    "\n",
    "# First page of website link is assigned to link variable\n",
    "link = string(\"https://www.police.govt.nz/contact-us/stations/district\")\n",
    "\n",
    "# Created empty dataframe to store police station name and address\n",
    "data = DataFrame(Police_station = [], address =[])\n",
    "\n",
    "# Created links dataframe to store all the webpages link to scrape\n",
    "links = DataFrame(link = link)\n",
    "\n",
    "\n",
    "# Scraped the webpage and selected requried class to filter the required content\n",
    "for i = 1:7\n",
    "         res = HTTP.get(link);\n",
    "         body = String(res.body);\n",
    "         html = parsehtml(body);\n",
    "         qres = eachmatch(sel\".views-table\", html.root);                                           # Selected the views-table class content  \n",
    "         table = qres[1];                                                                          # Enttire class conten is assigned to table\n",
    "         tbody = table[2];                                 \n",
    "         if i == 7                                                                                 # To scrape 26 police station details avaible in last page \n",
    "                 for j = 1:26                                                                      # Looped 26 times to scrape 26 police station details\n",
    "                    content = \" \"                                                                  # cleared content variable\n",
    "                    content = eachmatch(sel\".views-field\", tbody[j]);                              # Selected view-field class content from the table class content\n",
    "                    station = \" \"                                                                  # cleared station name and address variable \n",
    "                    address = \" \"\n",
    "                    station = nodeText(content[1])                                                 # Assigned police station name to station vairable\n",
    "                    address = nodeText(content[2])                                                 # Assigned address details to address variable\n",
    "                    data = vcat(data, DataFrame(Police_station = station, address = address))      # Appended station name and address to data dataframe      \n",
    "                    content = \" \"\n",
    "                 end\n",
    "         else\n",
    "                 for j = 1:50                                                                      # Created a Loop to scrape 50 police station details available in first-six pages\n",
    "                    content = \" \"\n",
    "                    content = eachmatch(sel\".views-field\", tbody[j]);\n",
    "                    station = \" \"\n",
    "                    address = \" \"\n",
    "                    station = nodeText(content[1])\n",
    "                    address = nodeText(content[2])\n",
    "                    data = vcat(data, DataFrame(Police_station = station, address = address))\n",
    "                    content = \" \"\n",
    "                 end\n",
    "         end\n",
    "         if i <= 6                                                                                 # Scraped next page link each time from each page \n",
    "             href = \" \"\n",
    "             href = eachmatch(Selector(\".next a\"), html.root)[1].attributes[\"href\"]\n",
    "             link = \" \"   \n",
    "             link = string(\"https://www.police.govt.nz/contact-us/stations/district\" , href)       # Base url concatenated with specific url for rest of the pages\n",
    "             links = vcat(links, DataFrame(link = link))\n",
    "         end\n",
    "end    \n"
   ]
  },
  {
   "cell_type": "markdown",
   "metadata": {},
   "source": [
    "## Export into csv"
   ]
  },
  {
   "cell_type": "code",
   "execution_count": 7,
   "metadata": {},
   "outputs": [
    {
     "data": {
      "text/plain": [
       "\"Police_City_Output.csv\""
      ]
     },
     "execution_count": 7,
     "metadata": {},
     "output_type": "execute_result"
    }
   ],
   "source": [
    "# Export data dataframe in CSV file format\n",
    "\n",
    "CSV.write(\"Police_City_Output.csv\",data)"
   ]
  },
  {
   "cell_type": "code",
   "execution_count": 8,
   "metadata": {},
   "outputs": [
    {
     "data": {
      "text/html": [
       "<table class=\"data-frame\"><thead><tr><th></th><th>Police_station</th><th>address</th></tr><tr><th></th><th>Any</th><th>Any</th></tr></thead><tbody><p>326 rows × 2 columns</p><tr><th>1</th><td>Air Support Unit</td><td>\\n            3 Solent St,Mechanics Bay,Auckland</td></tr><tr><th>2</th><td>Akaroa Police Station</td><td>\\n            9 Rue Lavaud,Akaroa</td></tr><tr><th>3</th><td>Alexandra Police Station</td><td>\\n            2 Kelman St,Alexandra</td></tr><tr><th>4</th><td>Amberley Police Station</td><td>\\n            106 Carters Rd,Amberley</td></tr><tr><th>5</th><td>Armoury (National)</td><td>\\n            863 Fergusson Drive,Upper Hutt</td></tr><tr><th>6</th><td>Arrowtown Community Policing Centre</td><td>\\n            57 Buckingham St,Arrowtown,Queenstown</td></tr><tr><th>7</th><td>Arthur's Pass Police Station</td><td>\\n            State Highway 73,Arthur's Pass</td></tr><tr><th>8</th><td>Ashburton Police Station</td><td>\\n            303 Havelock St,Ashburton</td></tr><tr><th>9</th><td>Ashhurst Police Station</td><td>\\n            14 Guildford St,Ashhurst</td></tr><tr><th>10</th><td>Auckland Airport Police Station</td><td>\\n            5 Cyril Kay Rd,Auckland Airport</td></tr><tr><th>11</th><td>Auckland Central Police Station</td><td>\\n            13-15 College Hill,\\nFreemans Bay,Auckland Central,Auckland</td></tr><tr><th>12</th><td>Auckland City District Headquarters</td><td>\\n            Cnr Cook &amp; Vincent Streets,Auckland Central,AUCKLAND</td></tr><tr><th>13</th><td>Avondale Police Station</td><td>\\n            1832 Great North Rd,Avondale,Auckland</td></tr><tr><th>14</th><td>Balclutha Police Station</td><td>\\n            7-9 Renfrew St,Balclutha</td></tr><tr><th>15</th><td>Balmoral Police Station</td><td>\\n            1-3 Halston Rd,Mount Eden,Balmoral</td></tr><tr><th>16</th><td>Bay of Plenty District Headquarters</td><td>\\n            1190-1214 Fenton St,Rotorua,ROTORUA</td></tr><tr><th>17</th><td>Bay View Police Station</td><td>\\n            15 Petane Rd,Bay View</td></tr><tr><th>18</th><td>Beachlands Community Policing Base</td><td>\\n            43 Kouka Road,Beachlands 2018</td></tr><tr><th>19</th><td>Benneydale Police Station</td><td>\\n            66 Ellis Rd,Benneydale,Waitomo</td></tr><tr><th>20</th><td>Blenheim Police Station</td><td>\\n            8 Main St,Blenheim</td></tr><tr><th>21</th><td>Bluff Police Station</td><td>\\n            80 Barrow St,Bluff</td></tr><tr><th>22</th><td>Browns Bay Police Station</td><td>\\n            10 Bayview Rd,Browns Bay</td></tr><tr><th>23</th><td>Bulls Police Station</td><td>\\n            105 Bridge St,Bulls</td></tr><tr><th>24</th><td>Cambridge Police Station</td><td>\\n            18 Dick St,Cambridge</td></tr><tr><th>25</th><td>Canterbury District Headquarters</td><td>\\n            40 Lichfield Street,Christchurch Central,CHRISTCHURCH</td></tr><tr><th>26</th><td>Carterton Police Station</td><td>\\n            5 Holloway St,Carterton</td></tr><tr><th>27</th><td>Central District Headquarters</td><td>\\n            404 Church St,Palmerston North,Palmerston North</td></tr><tr><th>28</th><td>Chatham Islands Police Station</td><td>\\n            Waitangi-Tuku Rd,Chatham Islands</td></tr><tr><th>29</th><td>Cheviot Police Station</td><td>\\n            8 McQueen Rd,Cheviot,Cheviot, North Canterbury</td></tr><tr><th>30</th><td>Christchurch Central Police Station</td><td>\\n            40 Lichfield Street,Christchurch Central ,Christchurch</td></tr><tr><th>&vellip;</th><td>&vellip;</td><td>&vellip;</td></tr></tbody></table>"
      ],
      "text/latex": [
       "\\begin{tabular}{r|cc}\n",
       "\t& Police\\_station & address\\\\\n",
       "\t\\hline\n",
       "\t& Any & Any\\\\\n",
       "\t\\hline\n",
       "\t1 & Air Support Unit & \\textbackslash{}n            3 Solent St,Mechanics Bay,Auckland \\\\\n",
       "\t2 & Akaroa Police Station & \\textbackslash{}n            9 Rue Lavaud,Akaroa \\\\\n",
       "\t3 & Alexandra Police Station & \\textbackslash{}n            2 Kelman St,Alexandra \\\\\n",
       "\t4 & Amberley Police Station & \\textbackslash{}n            106 Carters Rd,Amberley \\\\\n",
       "\t5 & Armoury (National) & \\textbackslash{}n            863 Fergusson Drive,Upper Hutt \\\\\n",
       "\t6 & Arrowtown Community Policing Centre & \\textbackslash{}n            57 Buckingham St,Arrowtown,Queenstown \\\\\n",
       "\t7 & Arthur's Pass Police Station & \\textbackslash{}n            State Highway 73,Arthur's Pass \\\\\n",
       "\t8 & Ashburton Police Station & \\textbackslash{}n            303 Havelock St,Ashburton \\\\\n",
       "\t9 & Ashhurst Police Station & \\textbackslash{}n            14 Guildford St,Ashhurst \\\\\n",
       "\t10 & Auckland Airport Police Station & \\textbackslash{}n            5 Cyril Kay Rd,Auckland Airport \\\\\n",
       "\t11 & Auckland Central Police Station & \\textbackslash{}n            13-15 College Hill,\\textbackslash{}nFreemans Bay,Auckland Central,Auckland \\\\\n",
       "\t12 & Auckland City District Headquarters & \\textbackslash{}n            Cnr Cook \\& Vincent Streets,Auckland Central,AUCKLAND \\\\\n",
       "\t13 & Avondale Police Station & \\textbackslash{}n            1832 Great North Rd,Avondale,Auckland \\\\\n",
       "\t14 & Balclutha Police Station & \\textbackslash{}n            7-9 Renfrew St,Balclutha \\\\\n",
       "\t15 & Balmoral Police Station & \\textbackslash{}n            1-3 Halston Rd,Mount Eden,Balmoral \\\\\n",
       "\t16 & Bay of Plenty District Headquarters & \\textbackslash{}n            1190-1214 Fenton St,Rotorua,ROTORUA \\\\\n",
       "\t17 & Bay View Police Station & \\textbackslash{}n            15 Petane Rd,Bay View \\\\\n",
       "\t18 & Beachlands Community Policing Base & \\textbackslash{}n            43 Kouka Road,Beachlands 2018 \\\\\n",
       "\t19 & Benneydale Police Station & \\textbackslash{}n            66 Ellis Rd,Benneydale,Waitomo \\\\\n",
       "\t20 & Blenheim Police Station & \\textbackslash{}n            8 Main St,Blenheim \\\\\n",
       "\t21 & Bluff Police Station & \\textbackslash{}n            80 Barrow St,Bluff \\\\\n",
       "\t22 & Browns Bay Police Station & \\textbackslash{}n            10 Bayview Rd,Browns Bay \\\\\n",
       "\t23 & Bulls Police Station & \\textbackslash{}n            105 Bridge St,Bulls \\\\\n",
       "\t24 & Cambridge Police Station & \\textbackslash{}n            18 Dick St,Cambridge \\\\\n",
       "\t25 & Canterbury District Headquarters & \\textbackslash{}n            40 Lichfield Street,Christchurch Central,CHRISTCHURCH \\\\\n",
       "\t26 & Carterton Police Station & \\textbackslash{}n            5 Holloway St,Carterton \\\\\n",
       "\t27 & Central District Headquarters & \\textbackslash{}n            404 Church St,Palmerston North,Palmerston North \\\\\n",
       "\t28 & Chatham Islands Police Station & \\textbackslash{}n            Waitangi-Tuku Rd,Chatham Islands \\\\\n",
       "\t29 & Cheviot Police Station & \\textbackslash{}n            8 McQueen Rd,Cheviot,Cheviot, North Canterbury \\\\\n",
       "\t30 & Christchurch Central Police Station & \\textbackslash{}n            40 Lichfield Street,Christchurch Central ,Christchurch \\\\\n",
       "\t$\\dots$ & $\\dots$ & $\\dots$ \\\\\n",
       "\\end{tabular}\n"
      ],
      "text/plain": [
       "326×2 DataFrame. Omitted printing of 1 columns\n",
       "│ Row │ Police_station                      │\n",
       "│     │ \u001b[90mAny\u001b[39m                                 │\n",
       "├─────┼─────────────────────────────────────┤\n",
       "│ 1   │ Air Support Unit                    │\n",
       "│ 2   │ Akaroa Police Station               │\n",
       "│ 3   │ Alexandra Police Station            │\n",
       "│ 4   │ Amberley Police Station             │\n",
       "│ 5   │ Armoury (National)                  │\n",
       "│ 6   │ Arrowtown Community Policing Centre │\n",
       "│ 7   │ Arthur's Pass Police Station        │\n",
       "│ 8   │ Ashburton Police Station            │\n",
       "│ 9   │ Ashhurst Police Station             │\n",
       "│ 10  │ Auckland Airport Police Station     │\n",
       "⋮\n",
       "│ 316 │ Westport Police Station             │\n",
       "│ 317 │ Whakatane Police Station            │\n",
       "│ 318 │ Whakatane Prosecutions              │\n",
       "│ 319 │ Whangamata Police Station           │\n",
       "│ 320 │ Whanganui Central Police Station    │\n",
       "│ 321 │ Whangaparaoa Police Station         │\n",
       "│ 322 │ Whangarei Central Police Station    │\n",
       "│ 323 │ Whitianga Police Station            │\n",
       "│ 324 │ Winton Police Station               │\n",
       "│ 325 │ Woodville Police Station            │\n",
       "│ 326 │ Wyndham Police Station              │"
      ]
     },
     "execution_count": 8,
     "metadata": {},
     "output_type": "execute_result"
    }
   ],
   "source": [
    "data"
   ]
  },
  {
   "cell_type": "markdown",
   "metadata": {},
   "source": [
    "Since the web scraped data need to be further wrangled to merge it with the Crime data, this exported data is loaded again into the R file - \"Crime.ipynb\" in section 3.\n",
    "\n",
    "#### `Refer Section 3 of \"Crime.ipynb\" file to proceed further.`"
   ]
  },
  {
   "cell_type": "code",
   "execution_count": null,
   "metadata": {},
   "outputs": [],
   "source": []
  }
 ],
 "metadata": {
  "kernelspec": {
   "display_name": "Julia 1.2.0",
   "language": "julia",
   "name": "julia-1.2"
  },
  "language_info": {
   "file_extension": ".jl",
   "mimetype": "application/julia",
   "name": "julia",
   "version": "1.2.0"
  }
 },
 "nbformat": 4,
 "nbformat_minor": 4
}
